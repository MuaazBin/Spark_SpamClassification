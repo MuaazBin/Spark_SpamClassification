{
 "cells": [
  {
   "cell_type": "markdown",
   "metadata": {
    "deletable": true,
    "editable": true
   },
   "source": [
    "## Coursework Part 2\n",
    "\n",
    "### Muaaz Bin Sarfaraz\n",
    "### Chadi El Hajj\n",
    "\n",
    "Msc Data Science"
   ]
  },
  {
   "cell_type": "code",
   "execution_count": 27,
   "metadata": {
    "collapsed": false,
    "deletable": true,
    "editable": true
   },
   "outputs": [
    {
     "name": "stdout",
     "output_type": "stream",
     "text": [
      "Stopped existing SparkContext\n",
      "Created new SparkContext\n",
      "Proterties of sc:  [('spark.eventLog.enabled', 'true'), ('spark.executor.logs.rolling.time.interval', 'daily'), ('spark.executor.extraJavaOptions', '-Xss8192k'), ('spark.master', 'spark://10.207.1.85:7077'), ('spark.driver.port', '38398'), ('spark.executor.id', 'driver'), ('spark.executor.logs.rolling.strategy', 'time'), ('spark.driver.memory', '1g'), ('spark.executor.memory', '1g'), ('spark.rdd.compress', 'True'), ('spark.driver.host', '10.207.1.85'), ('spark.app.id', 'app-20170325164234-1698'), ('spark.app.name', 'Coursework part 1'), ('spark.cores.max', '2'), ('spark.serializer.objectStreamReset', '100'), ('spark.submit.deployMode', 'client'), ('spark.driver.extraJavaOptions', '-Xss8192k'), ('spark.eventLog.dir', '/data/sparklog')]\n"
     ]
    }
   ],
   "source": [
    "# try this in case of \"sc undefined\" errors, also works outside the Notebook environment\n",
    "from pyspark import SparkContext\n",
    "\n",
    "try: \n",
    "    sc.stop()\n",
    "    print('Stopped existing SparkContext')\n",
    "except Exception as e: \n",
    "    # print(e) # for debugging\n",
    "    pass\n",
    "\n",
    "try: \n",
    "    sc = SparkContext(appName='Coursework part 2')\n",
    "    print('Created new SparkContext')\n",
    "except Exception as e: \n",
    "    print(e)\n",
    "# for testing\n",
    "print('Proterties of sc: ',list(sc.getConf().getAll())) \n",
    "# we need a SparkSession to create DataFrames\n",
    "spark = SparkSession.builder.getOrCreate()"
   ]
  },
  {
   "cell_type": "markdown",
   "metadata": {
    "deletable": true,
    "editable": true
   },
   "source": [
    "## Dataset\n",
    "### We have chosen a Ling-Spam dataset as it qualifies as a big data and would help us in building the relevant skills in text analysis. Working on this raw dataset allow us to perform many preprocessing steps such as tokenization, and hashing.\n",
    "\n",
    "### There are four subdirectories in this dataset and each subdirectory contain 10 parts. Each part consists of files both spam and ham. We are only using the bare subdirectory for this task.\n",
    "\n",
    "## Task\n",
    "### The task we choose to perform on this dataset is the classification of spam or ham using logistic regression (LR). LR is statistical model used to predict the probability of occurance e.g event. It works by fitting the data into a logit function and uses a threshold of 0.5 to predict the likelihood of whether the event happens or in our case whether the file is spam or ham. If the probability is higher than 0.5 than it maps it to 1 or zero otherwise. Therefore, it is appropriate to use this method for this task as our results are binary outcome. \n",
    "\n",
    "## Preprocessing\n",
    "### Tokenizer - In order to break the text files into words\n",
    "### Hashing- It is a transformer which takes sets of terms and converts those sets into fixed-length feature vectors.\n",
    "\n",
    "\n",
    "#### Dataset reference:\n",
    "Ion Androutsopoulos http://www.aueb.gr/users/ion/\n",
    "Ling-Spam corpus last updated: July 17, 2000\n",
    "This file (readme.txt) last updated: July 30, 2003."
   ]
  },
  {
   "cell_type": "code",
   "execution_count": 34,
   "metadata": {
    "collapsed": false,
    "deletable": true,
    "editable": true
   },
   "outputs": [
    {
     "name": "stdout",
     "output_type": "stream",
     "text": [
      "Read 291 files from directory hdfs://saltdean.nsqdc.city.ac.uk/data/spam/bare/part10\n",
      "Read 289 files from directory hdfs://saltdean.nsqdc.city.ac.uk/data/spam/bare/part[1]\n",
      "+--------------------+-----+\n",
      "|                text|label|\n",
      "+--------------------+-----+\n",
      "|Subject: sound pa...|  0.0|\n",
      "|Subject: atelier ...|  0.0|\n",
      "+--------------------+-----+\n",
      "only showing top 2 rows\n",
      "\n",
      "Done\n"
     ]
    }
   ],
   "source": [
    "import re \n",
    "\n",
    "\n",
    "prefix = 'hdfs://saltdean.nsqdc.city.ac.uk/data/' # hdfs file path\n",
    "\n",
    "dirPath1 = prefix+'spam/bare/part10' # first dataset for testing\n",
    "dirPath2 = prefix+'spam/bare/part[1]' # first dataset for training\n",
    "\n",
    "\n",
    "#function for changing file into a spark dataframe\n",
    "def read_rows_DF( argDir ):  \n",
    "    ft_RDD = sc.wholeTextFiles(argDir) # task a) read the files \n",
    "    count=ft_RDD.count()\n",
    "    print('Read {} files from directory {}'.format(ft_RDD.count(),argDir)) #count the files in directory\n",
    "    spm_t_RDD = ft_RDD.map(lambda ft: (ft[1], 0.0 if re.search('spmsg',ft[0]) is None else 1.0)) #labelling as 0 if spam else 1\n",
    "    rows_DF = spark.createDataFrame(spm_t_RDD, schema=['text','label']) # create a DataFrame\n",
    "    return rows_DF,count #,fw_RDD\n",
    "\n",
    "# for testing\n",
    "spam_test_DF= read_rows_DF(dirPath1) #changing to dataframes\n",
    "spam_train_DF = read_rows_DF(dirPath2)\n",
    "\n",
    "testdf,_=spam_test_DF # extracting dataframe and ignoring count of files at this satge\n",
    "testdf.show(2) # Showing first two rows of dataframe\n",
    "print(\"Done\")"
   ]
  },
  {
   "cell_type": "markdown",
   "metadata": {},
   "source": [
    "## Setting up a Pipeline"
   ]
  },
  {
   "cell_type": "code",
   "execution_count": 35,
   "metadata": {
    "collapsed": false,
    "deletable": true,
    "editable": true
   },
   "outputs": [],
   "source": [
    "import time # for calcuating time taken for processes\n",
    "from pyspark.ml import Pipeline #using pipeline to manage tasks\n",
    "from pyspark.ml.classification import LogisticRegression # Machine Learning Model\n",
    "from pyspark.ml.evaluation import BinaryClassificationEvaluator # Binary task thus binary evaluation\n",
    "from pyspark.ml.feature import HashingTF,StopWordsRemover, Tokenizer\n",
    "from pyspark.ml.tuning import ParamGridBuilder # Grid serach parameters\n",
    "from pyspark.ml.tuning import TrainValidationSplit # splitting training set further into training and validation sets\n",
    "from pyspark.mllib.classification import SVMWithSGD, SVMModel\n",
    "\n",
    "testing = spam_test_DF # test dataframe\n",
    "\n",
    "\n",
    "# Configure an ML pipeline, which consists of tree stages: tokenizer, hashingTF, and lr.\n",
    "tokenizer = Tokenizer(inputCol=\"text\", outputCol=\"words\") #breaks text into words\n",
    "remover = StopWordsRemover(inputCol=tokenizer.getOutputCol(), outputCol=\"filtered\") # removes stopword\n",
    "hashingTF = HashingTF(inputCol=remover.getOutputCol(), outputCol=\"features\") # transforms to term freq\n",
    "\n",
    "lr = LogisticRegression(maxIter=10) #log likelihood iteration is set at 10\n",
    "\n",
    "pipeline_1 = Pipeline(stages=[tokenizer, remover,hashingTF, lr]) # setup a pipeline with Logistic Regression\n",
    "\n",
    "\n",
    "# We can now treat the Pipeline as an Estimator, wrapping it in a Train-Validator instance.\n",
    "# This will allow us to jointly choose parameters for all Pipeline stages.\n",
    "# A TrainValidator requires an Estimator, a set of Estimator ParamMaps, and an Evaluator.\n",
    "# We use a ParamGridBuilder to construct a grid of parameters to search over.\n",
    "# With 3 values for hashingTF.numFeatures and 3 values for lr.regParam,\n",
    "# With 3 values for lr.maxIter,\n",
    "# this grid will have 3 x 3 x 2 = 18 parameter settings for TrainValidator to choose from.\n",
    "\n",
    "training_time=[]\n",
    "testing_time=[]\n",
    "file_count=[]\n",
    "training_accuracy=[]\n",
    "testing_accuracy=[]\n",
    "\n",
    "\n",
    "bc_eval=BinaryClassificationEvaluator() #binary class evaluator since only two classes SPAM and HAM\n",
    "\n",
    "#trying different hashvectors #experimenting various regularization Parameter in LR \n",
    "#experimenting various iterations of log Likelihood in LR\n",
    "paramGrid_1 = ParamGridBuilder().addGrid(hashingTF.numFeatures, [10, 100, 200]).addGrid(lr.regParam, [0, 0.1]) \\\n",
    "            .addGrid(lr.maxIter, [20,40]) \\\n",
    "            .build()\n",
    "    \n",
    "#Grid search is important to know the best set of parameters, Experimenting with hash vector size since \n",
    "#bag of words considered in vector affect accuracy results\n",
    "\n",
    "tvs = TrainValidationSplit(estimator=pipeline_1,\n",
    "                           estimatorParamMaps=paramGrid_1,\n",
    "                           evaluator=bc_eval,\n",
    "                           # 80% of the data will be used for training, 20% for validation.\n",
    "                           trainRatio=0.8)"
   ]
  },
  {
   "cell_type": "code",
   "execution_count": null,
   "metadata": {
    "collapsed": true
   },
   "outputs": [],
   "source": []
  },
  {
   "cell_type": "markdown",
   "metadata": {},
   "source": [
    "## Varying training set size"
   ]
  },
  {
   "cell_type": "code",
   "execution_count": 51,
   "metadata": {
    "collapsed": false,
    "deletable": true,
    "editable": true,
    "scrolled": true
   },
   "outputs": [
    {
     "name": "stdout",
     "output_type": "stream",
     "text": [
      "EXPERIMENT: Testing different training set sizes with the best Model selected by ParamBuilder\n",
      "Path = hdfs://saltdean/data/spam/bare/part[1-{}],\n",
      "hdfs://saltdean/data/spam/bare/part[1-1]\n",
      "Read 289 files from directory hdfs://saltdean/data/spam/bare/part[1-1]\n",
      "Start Training\n",
      "Finish Training\n",
      "training accuracy:  0.9962828492392808\n",
      "Time take to train 0.7300889999999995 seconds\n",
      "Time take to predict train 0.01980700000000013 seconds\n",
      "testing accuracy:  0.9129701467363802\n",
      "Time taken to predict test 0.027983000000002534 seconds\n",
      "#################################\n",
      "[289]\n",
      "[0.7300889999999995]\n",
      "[0.9962828492392808]\n",
      "[0.9129701467363802]\n",
      "hdfs://saltdean/data/spam/bare/part[1-2]\n",
      "Read 578 files from directory hdfs://saltdean/data/spam/bare/part[1-2]\n",
      "Start Training\n",
      "Finish Training\n",
      "training accuracy:  0.9897562240663902\n",
      "Time take to train 0.7506089999999972 seconds\n",
      "Time take to predict train 0.023181000000001006 seconds\n",
      "testing accuracy:  0.9298363973688644\n",
      "Time taken to predict test 0.028144000000001057 seconds\n",
      "#################################\n",
      "[289, 578]\n",
      "[0.7300889999999995, 0.7506089999999972]\n",
      "[0.9962828492392808, 0.9897562240663902]\n",
      "[0.9129701467363802, 0.9298363973688644]\n",
      "hdfs://saltdean/data/spam/bare/part[1-3]\n",
      "Read 867 files from directory hdfs://saltdean/data/spam/bare/part[1-3]\n",
      "Start Training\n",
      "Finish Training\n",
      "training accuracy:  1.0\n",
      "Time take to train 0.7699859999999994 seconds\n",
      "Time take to predict train 0.022721000000000657 seconds\n",
      "testing accuracy:  0.9593523359757123\n",
      "Time taken to predict test 0.02664800000000156 seconds\n",
      "#################################\n",
      "[289, 578, 867]\n",
      "[0.7300889999999995, 0.7506089999999972, 0.7699859999999994]\n",
      "[0.9962828492392808, 0.9897562240663902, 1.0]\n",
      "[0.9129701467363802, 0.9298363973688644, 0.9593523359757123]\n",
      "hdfs://saltdean/data/spam/bare/part[1-4]\n",
      "Read 1156 files from directory hdfs://saltdean/data/spam/bare/part[1-4]\n",
      "Start Training\n",
      "Finish Training\n",
      "training accuracy:  1.0\n",
      "Time take to train 0.7696969999999972 seconds\n",
      "Time take to predict train 0.028636000000002326 seconds\n",
      "testing accuracy:  0.9635688986338335\n",
      "Time taken to predict test 0.02294700000000205 seconds\n",
      "#################################\n",
      "[289, 578, 867, 1156]\n",
      "[0.7300889999999995, 0.7506089999999972, 0.7699859999999994, 0.7696969999999972]\n",
      "[0.9962828492392808, 0.9897562240663902, 1.0, 1.0]\n",
      "[0.9129701467363802, 0.9298363973688644, 0.9593523359757123, 0.9635688986338335]\n"
     ]
    }
   ],
   "source": [
    "# Expected running time for this cell is 40 minutes\n",
    "# Trying different training set sizes with ParamGrid and TrainValidation \n",
    "\n",
    "# prepare the part directories and the path\n",
    "dirPattern = 'hdfs://saltdean/data/spam/bare/part[1-{}]' # the {} can be filled by 'dirPattern.format(i)' \n",
    "testing,count2 = spam_test_DF\n",
    "print('EXPERIMENT: Testing different training set sizes with the best Model selected by ParamBuilder')\n",
    "print('Path = {},'.format(dirPattern)) # using format to make sure we record the parameters of the experiment\n",
    "#<<< make the test set, it will be constant for this experiment\n",
    "#<<< loop over i the number of parts for training (1-9)\n",
    "for i in range(1,5):# Run Train-validation, and choose the best set of parameters.\n",
    "    trainPaths = dirPattern.format(i) # in the loop you can create a path like this\n",
    "    print(trainPaths) #just for testing, remove later\n",
    "    #<<< create the trainRDD (using your make_f_tfLn_RDD method)\n",
    "    training,count = read_rows_DF(trainPaths)\n",
    "    file_count.append(count)\n",
    "    print('Start Training')\n",
    "    start1=time.clock()\n",
    "    Model = tvs.fit(training)\n",
    "    end1=time.clock()\n",
    "    training_time.append(end1-start1)\n",
    "    print('Finish Training')\n",
    "\n",
    "    # Make predictions on training documents. \n",
    "    start2=time.clock()\n",
    "    prediction = Model.transform(training)\n",
    "    train_accuracy=bc_eval.evaluate(prediction)\n",
    "    training_accuracy.append(train_accuracy)\n",
    "    end2=time.clock()\n",
    "    print(\"training accuracy: \", train_accuracy)\n",
    "    print(\"Time take to train\", end1-start1,\"seconds\")\n",
    "    print(\"Time take to predict train\", end2-start2,\"seconds\")\n",
    "\n",
    "    # Make predictions on test documents. \n",
    "    start3=time.clock()\n",
    "    prediction = Model.transform(testing)\n",
    "    test_acc=bc_eval.evaluate(prediction)\n",
    "    testing_accuracy.append(test_acc)\n",
    "    end3=time.clock()\n",
    "    print(\"testing accuracy: \", test_acc)\n",
    "    print(\"Time taken to predict test\", end3-start3,\"seconds\")\n",
    "    print(\"#################################\")\n",
    "\n",
    "# We tried with about 27 different combinations however running the code took over three hour,\n",
    "# thus limited number of parameter combination were used in Grid serach to make the results producible while marking\n",
    "# Only hold out set was used for evaluating model instead of cross validation because train-validation split was\n",
    "# recommended in the instructions, moreover, using corss-val would make it computationally more expensive."
   ]
  },
  {
   "cell_type": "markdown",
   "metadata": {
    "deletable": true,
    "editable": true
   },
   "source": [
    "### One can observe Iterative algorithms are inefficient in standard MapReduce, because intermediate results write and read to/from disk"
   ]
  },
  {
   "cell_type": "markdown",
   "metadata": {
    "deletable": true,
    "editable": true
   },
   "source": [
    "## Plotting Figures for Analysis"
   ]
  },
  {
   "cell_type": "code",
   "execution_count": 66,
   "metadata": {
    "collapsed": false,
    "deletable": true,
    "editable": true
   },
   "outputs": [
    {
     "data": {
      "image/png": "[encoded data removed]",
      "text/plain": [
       "<matplotlib.figure.Figure at 0x7f1c1c0de128>"
      ]
     },
     "metadata": {},
     "output_type": "display_data"
    },
    {
     "data": {
      "image/png": "[encoded data removed]",
      "text/plain": [
       "<matplotlib.figure.Figure at 0x7f1c1c05c3c8>"
      ]
     },
     "metadata": {},
     "output_type": "display_data"
    },
    {
     "name": "stdout",
     "output_type": "stream",
     "text": [
      "[289, 578, 867, 1156]\n",
      "[0.7300889999999995, 0.7506089999999972, 0.7699859999999994, 0.7696969999999972]\n",
      "[0.9962828492392808, 0.9897562240663902, 1.0, 1.0]\n"
     ]
    }
   ],
   "source": [
    "import matplotlib.pyplot as plt\n",
    "plt.figure(1)\n",
    "plt.suptitle('Testing vs Training')\n",
    "plt.xlabel('File Count')\n",
    "plt.ylabel('Accuracy')\n",
    "plt.plot(file_count, training_accuracy, 'r--', linewidth=2.0, label='Training')\n",
    "plt.plot(file_count,testing_accuracy, 'g--',linewidth=2.0, label='Testing')\n",
    "plt.legend(loc='upper right')\n",
    "plt.show()\n",
    "\n",
    "plt.figure(1)\n",
    "plt.suptitle('Time taken to train')\n",
    "plt.xlabel('File Count')\n",
    "plt.ylabel('Time-seconds')\n",
    "plt.plot(file_count, training_time, 'b-',linewidth=2.0)\n",
    "plt.show()\n",
    "\n"
   ]
  },
  {
   "cell_type": "markdown",
   "metadata": {
    "deletable": true,
    "editable": true
   },
   "source": [
    "## Extra- Trying Multi Layer Perceptron Classifier\n",
    "\n",
    "#### New classifier only tested on the base training and test set (Training set size not varied)"
   ]
  },
  {
   "cell_type": "code",
   "execution_count": null,
   "metadata": {
    "collapsed": false,
    "deletable": true,
    "editable": true
   },
   "outputs": [],
   "source": [
    "from pyspark.ml.classification import MultilayerPerceptronClassifier\n",
    "\n",
    "training,_= spam_train_DF\n",
    "testing,_=spam_test_DF\n",
    "\n",
    "layers = [10, 1, 1]\n",
    "\n",
    "# create the trainer and set its parameters\n",
    "mlp = MultilayerPerceptronClassifier(maxIter=100, layers=layers,blockSize=50,seed=1234)\n",
    "\n",
    "#pipeline_2 = Pipeline(stages=[tokenizer, remover]) # setup a new pipeline with MLP Classifier\n",
    "#changing number of hidden neurons in MLP, hashfeature vector size\n",
    "#paramGrid_2 = ParamGridBuilder().build()\n",
    "#paramGrid_2 = ParamGridBuilder().addGrid(hashingTF.numFeatures, [10, 100, 200]).addGrid(lr.regParam, [0, 0.1]) \\\n",
    "#            .addGrid(lr.maxIter, [20,40]) \\\n",
    "#            .build()\n",
    "\n",
    "#  .addGrid(mlp.blockSize, [50,100])   \n",
    "#Grid search is important to know the best set of parameters, Experimenting with hash vector size since \n",
    "#bag of words considered since it affects accuracy \n",
    "hashingTF = HashingTF(inputCol=remover.getOutputCol(), outputCol=\"features\",numFeatures=10) # transforms to term freq\n",
    "\n",
    "tokenized = tokenizer.transform(training)\n",
    "tokenized.show(2)\n",
    "removed=remover.transform(tokenized)\n",
    "removed.show(2)\n",
    "hashed=hashingTF.transform(removed)\n",
    "hashed.show(2)\n",
    "\n",
    "\n",
    "\n",
    "layers = [10, 2, 2]\n",
    "\n",
    "# create the trainer and set its parameters\n",
    "trainer = MultilayerPerceptronClassifier(maxIter=100, layers=layers, blockSize=128, seed=1234)\n",
    "\n",
    "# train the model\n",
    "model = trainer.fit(hashed)\n",
    "\n",
    "\n",
    "\n",
    "# tvs = TrainValidationSplit(estimator=pipeline_2,\n",
    "#                            #estimatorParamMaps=paramGrid_2,\n",
    "#                            evaluator=bc_eval,\n",
    "#                            # 80% of the data will be used for training, 20% for validation.\n",
    "#                            trainRatio=0.8)\n",
    "\n",
    "# Model = tvs.fit(training)\n",
    "# prediction = Model.transform(training)\n",
    "# train_accuracy_mlp=bc_eval.evaluate(prediction)\n",
    "# prediction = Model.transform(testing)\n",
    "# test_accuracy_mlp=bc_eval.evaluate(prediction)\n",
    "# print(\"Training Accuracy\", 0.99)\n",
    "# print(\"Test Accuracy\", test_accuracy)"
   ]
  }
 ],
 "metadata": {
  "kernelspec": {
   "display_name": "PySpark",
   "language": "python",
   "name": "pyspark"
  },
  "language_info": {
   "codemirror_mode": {
    "name": "ipython",
    "version": 3
   },
   "file_extension": ".py",
   "mimetype": "text/x-python",
   "name": "python",
   "nbconvert_exporter": "python",
   "pygments_lexer": "ipython3",
   "version": "3.5.2"
  }
 },
 "nbformat": 4,
 "nbformat_minor": 2
}
