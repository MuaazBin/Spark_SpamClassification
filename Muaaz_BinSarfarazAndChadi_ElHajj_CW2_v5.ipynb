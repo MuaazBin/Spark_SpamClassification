{
 "cells": [
  {
   "cell_type": "markdown",
   "metadata": {
    "deletable": true,
    "editable": true
   },
   "source": [
    "## Coursework Part 2\n",
    "\n",
    "### Muaaz Bin Sarfaraz\n",
    "### Chadi El Hajj\n",
    "\n",
    "Msc Data Science"
   ]
  },
  {
   "cell_type": "code",
   "execution_count": 1,
   "metadata": {
    "collapsed": false,
    "deletable": true,
    "editable": true
   },
   "outputs": [
    {
     "name": "stdout",
     "output_type": "stream",
     "text": [
      "Stopped existing SparkContext\n",
      "Created new SparkContext\n",
      "Proterties of sc:  [('spark.eventLog.enabled', 'true'), ('spark.executor.logs.rolling.time.interval', 'daily'), ('spark.executor.extraJavaOptions', '-Xss8192k'), ('spark.master', 'spark://10.207.1.85:7077'), ('spark.driver.port', '42943'), ('spark.executor.id', 'driver'), ('spark.executor.logs.rolling.strategy', 'time'), ('spark.app.id', 'app-20170423141527-2443'), ('spark.driver.memory', '1g'), ('spark.app.name', 'Coursework part 2'), ('spark.executor.memory', '1g'), ('spark.rdd.compress', 'True'), ('spark.driver.host', '10.207.1.85'), ('spark.serializer.objectStreamReset', '100'), ('spark.cores.max', '2'), ('spark.submit.deployMode', 'client'), ('spark.driver.extraJavaOptions', '-Xss8192k'), ('spark.eventLog.dir', '/data/sparklog')]\n"
     ]
    }
   ],
   "source": [
    "# try this in case of \"sc undefined\" errors, also works outside the Notebook environment\n",
    "from pyspark import SparkContext\n",
    "\n",
    "try: \n",
    "    sc.stop()\n",
    "    print('Stopped existing SparkContext')\n",
    "except Exception as e: \n",
    "    # print(e) # for debugging\n",
    "    pass\n",
    "\n",
    "try: \n",
    "    sc = SparkContext(appName='Coursework part 2')\n",
    "    print('Created new SparkContext')\n",
    "except Exception as e: \n",
    "    print(e)\n",
    "# for testing\n",
    "print('Proterties of sc: ',list(sc.getConf().getAll())) \n",
    "# we need a SparkSession to create DataFrames\n",
    "spark = SparkSession.builder.getOrCreate()"
   ]
  },
  {
   "cell_type": "markdown",
   "metadata": {
    "deletable": true,
    "editable": true
   },
   "source": [
    "### Dataset\n",
    "##### The dataset chosen for this task is LingSpam dataset. There are four directories in this dataset and each subdirectory contain 10 parts. Each part consists of files both spam and ham messages. We train the data on 9 parts and hold out one for testing. We are only using the bare subdirectory for this task. This dataset qualifies as a big data and would help us in building the relevant skills in text analysis. Working on this raw dataset allow us to perform many preprocessing steps such as tokenization, stop word remover and hashing etc.\n",
    "\n",
    "### Task\n",
    "##### The task we choose to perform on this dataset is the classification of spam or ham using logistic regression (LR). LR is statistical model used to predict the probability of occurance e.g event. It works by fitting the data into a logit function and uses a threshold of 0.5 to predict the likelihood of whether the event happens or in our case whether the file is spam or ham. If the probability is higher than 0.5 than it maps it to 1 or zero otherwise. Therefore, it is appropriate to use this method for this task as our results are binary outcome spam or ham. \n",
    "\n",
    "### Preprocessing steps\n",
    "##### Tokenizer - In order to break the text files into (words) tokens to be added to the index\n",
    "##### stop word removal- to remove the stop words and punctuation from the files (to improve accuracy)\n",
    "##### Hashing- It is a transformer which takes sets of terms and converts those sets into fixed-length feature vectors for dimension reduction.\n",
    "\n",
    "\n",
    "### Dataset reference:\n",
    "Ion Androutsopoulos http://www.aueb.gr/users/ion/\n",
    "Ling-Spam corpus last updated: July 17, 2000\n",
    "This file (readme.txt) last updated: July 30, 2003."
   ]
  },
  {
   "cell_type": "code",
   "execution_count": 1,
   "metadata": {
    "collapsed": false,
    "deletable": true,
    "editable": true
   },
   "outputs": [
    {
     "name": "stdout",
     "output_type": "stream",
     "text": [
      "Read 291 files from directory hdfs://saltdean.nsqdc.city.ac.uk/data/spam/bare/part10\n",
      "Read 289 files from directory hdfs://saltdean.nsqdc.city.ac.uk/data/spam/bare/part[1]\n",
      "+--------------------+-----+\n",
      "|                text|label|\n",
      "+--------------------+-----+\n",
      "|Subject: sound pa...|  0.0|\n",
      "|Subject: atelier ...|  0.0|\n",
      "+--------------------+-----+\n",
      "only showing top 2 rows\n",
      "\n",
      "Done\n"
     ]
    }
   ],
   "source": [
    "import re \n",
    "\n",
    "#function for changing file into a spark dataframe\n",
    "def read_rows_DF( argDir ):  \n",
    "    ft_RDD = sc.wholeTextFiles(argDir) # task a) read the files \n",
    "    count=ft_RDD.count()\n",
    "    print('Read {} files from directory {}'.format(ft_RDD.count(),argDir)) #count the files in directory\n",
    "    spm_t_RDD = ft_RDD.map(lambda ft: (ft[1], 0.0 if re.search('spmsg',ft[0]) is None else 1.0)) #labelling as 0 if spam else 1\n",
    "    rows_DF = spark.createDataFrame(spm_t_RDD, schema=['text','label']) # create a DataFrame\n",
    "    return rows_DF,count "
   ]
  },
  {
   "cell_type": "markdown",
   "metadata": {
    "deletable": true,
    "editable": true
   },
   "source": [
    "## Setting up a Pipeline\n",
    "\n",
    "##### We set the pipeline with 4 stages. \n",
    "##### Stage 1: tokenizer to break down the file into words\n",
    "##### Stage 2: stop word remover \n",
    "##### Stage 3: hashing transforms the words vectors into a reduced hash vector. This helps if the vocabulary/bag of words is huge as it speeds up the process wich in turn reduced the computational time. \n",
    "##### Stage 4: logistic regression as a machine leanring algorithm to classify the files."
   ]
  },
  {
   "cell_type": "code",
   "execution_count": 2,
   "metadata": {
    "collapsed": false,
    "deletable": true,
    "editable": true
   },
   "outputs": [],
   "source": [
    "import time # for calcuating time taken for processes\n",
    "from pyspark.ml import Pipeline #using pipeline to manage tasks\n",
    "from pyspark.ml.classification import LogisticRegression # Machine Learning Model\n",
    "from pyspark.ml.evaluation import BinaryClassificationEvaluator # Binary task thus binary evaluation\n",
    "from pyspark.ml.feature import HashingTF,StopWordsRemover, Tokenizer\n",
    "from pyspark.ml.tuning import ParamGridBuilder # Grid serach parameters\n",
    "from pyspark.ml.tuning import TrainValidationSplit # splitting training set further into training and validation sets\n",
    "\n",
    "testing = spam_test_DF # test dataframe\n",
    "\n",
    "# Configure an ML pipeline, which consists of four stages: tokenizer, stop word remover, hashingTF, and lr.\n",
    "tokenizer = Tokenizer(inputCol=\"text\", outputCol=\"words\") #breaks text into words\n",
    "remover = StopWordsRemover(inputCol=tokenizer.getOutputCol(), outputCol=\"filtered\") # removes stopwords\n",
    "hashingTF = HashingTF(inputCol=remover.getOutputCol(), outputCol=\"features\") # transforms to term freq\n",
    "lr = LogisticRegression(maxIter=10) #log likelihood iteration is set to 10\n",
    "\n",
    "pipeline_1 = Pipeline(stages=[tokenizer, remover,hashingTF, lr]) # setup a pipeline with preprocessing steps and Logistic Regression\n",
    "\n",
    "\n",
    "# We can now treat the Pipeline as an Estimator, wrapping it in a Train-Validator instance.\n",
    "# This will allow us to jointly choose parameters for all Pipeline stages.\n",
    "# A TrainValidator requires an Estimator, a set of Estimator ParamMaps, and an Evaluator.\n",
    "# We use a ParamGridBuilder to construct a grid of parameters to search over.\n",
    "# With 3 values for hashingTF.numFeatures and 3 values for lr.regParam,\n",
    "# With 3 values for lr.maxIter,\n",
    "# this grid will have 3 x 3 x 2 = 18 parameter settings for TrainValidator to choose from.\n",
    "pipe_eval=BinaryClassificationEvaluator() #binary class evaluator since we only have two output classes either SPAM and HAM\n"
   ]
  },
  {
   "cell_type": "markdown",
   "metadata": {
    "deletable": true,
    "editable": true
   },
   "source": [
    "#### pipeline evaluation"
   ]
  },
  {
   "cell_type": "code",
   "execution_count": 21,
   "metadata": {
    "collapsed": false,
    "deletable": true,
    "editable": true
   },
   "outputs": [
    {
     "name": "stdout",
     "output_type": "stream",
     "text": [
      "Read 289 files from directory hdfs://saltdean/data/spam/bare/part[1-1]\n",
      "Start Training\n",
      "Finish Training\n",
      "training accuracy:  1.0\n",
      "Read 291 files from directory hdfs://saltdean/data/spam/bare/part10\n",
      "testing accuracy:  0.9489795918367345\n",
      "Read 578 files from directory hdfs://saltdean/data/spam/bare/part[1-2]\n",
      "Start Training\n",
      "Finish Training\n",
      "training accuracy:  1.0\n",
      "Read 291 files from directory hdfs://saltdean/data/spam/bare/part10\n",
      "testing accuracy:  0.9938438185191432\n",
      "Read 867 files from directory hdfs://saltdean/data/spam/bare/part[1-3]\n",
      "Start Training\n",
      "Finish Training\n",
      "training accuracy:  1.0\n",
      "Read 291 files from directory hdfs://saltdean/data/spam/bare/part10\n",
      "testing accuracy:  0.9973857311519648\n",
      "Read 1156 files from directory hdfs://saltdean/data/spam/bare/part[1-4]\n",
      "Start Training\n",
      "Finish Training\n",
      "training accuracy:  1.0\n",
      "Read 291 files from directory hdfs://saltdean/data/spam/bare/part10\n",
      "testing accuracy:  0.9973857311519648\n",
      "Read 1446 files from directory hdfs://saltdean/data/spam/bare/part[1-5]\n",
      "Start Training\n",
      "Finish Training\n",
      "training accuracy:  1.0\n",
      "Read 291 files from directory hdfs://saltdean/data/spam/bare/part10\n",
      "testing accuracy:  0.9976387249114522\n",
      "Read 1735 files from directory hdfs://saltdean/data/spam/bare/part[1-6]\n",
      "Start Training\n",
      "Finish Training\n",
      "training accuracy:  1.0\n",
      "Read 291 files from directory hdfs://saltdean/data/spam/bare/part10\n",
      "testing accuracy:  0.9974700624051274\n",
      "Read 2024 files from directory hdfs://saltdean/data/spam/bare/part[1-7]\n",
      "Start Training\n",
      "Finish Training\n",
      "training accuracy:  1.0\n",
      "Read 291 files from directory hdfs://saltdean/data/spam/bare/part10\n",
      "testing accuracy:  0.9974700624051274\n",
      "Read 2313 files from directory hdfs://saltdean/data/spam/bare/part[1-8]\n",
      "Start Training\n",
      "Finish Training\n",
      "training accuracy:  1.0\n",
      "Read 291 files from directory hdfs://saltdean/data/spam/bare/part10\n",
      "testing accuracy:  0.9971327373924777\n",
      "Read 2602 files from directory hdfs://saltdean/data/spam/bare/part[1-9]\n",
      "Start Training\n",
      "Finish Training\n",
      "training accuracy:  1.0\n",
      "Read 291 files from directory hdfs://saltdean/data/spam/bare/part10\n",
      "testing accuracy:  0.9971327373924777\n"
     ]
    }
   ],
   "source": [
    "testDirPattern = 'hdfs://saltdean/data/spam/bare/part10' # creating test directory\n",
    "PipeTrainDir = 'hdfs://saltdean/data/spam/bare/part[1-{}]' # create train directory format\n",
    "\n",
    "for i in range(1,10):# Run Train-validation\n",
    "    PipeTrainPaths = PipeTrainDir.format(i) # create a path\n",
    "    PipeTrain,count1 = read_rows_DF(PipeTrainPaths)\n",
    "    print('Start Training')\n",
    "    PipeModel = pipeline_1.fit(PipeTrain) # training pipeline model \n",
    "    print('Finish Training')\n",
    "\n",
    "    PipePrediction = PipeModel.transform(PipeTrain) # make prediction on the training model\n",
    "    PipeTrain_acc=pipe_eval.evaluate(PipePrediction) # get training accuracy \n",
    "    print(\"training accuracy: \", PipeTrain_acc) \n",
    "\n",
    "    pipeTest,count2 = read_rows_DF(testDirPattern)\n",
    "    PipePredictionTest = PipeModel.transform(pipeTest) # make predication using the test dataset on the trained model \n",
    "    PipeTest_acc=pipe_eval.evaluate(PipePredictionTest) # get test accuracy of the predication \n",
    "    print(\"testing accuracy: \", PipeTest_acc)"
   ]
  },
  {
   "cell_type": "markdown",
   "metadata": {},
   "source": [
    "\n",
    "Testing the pipeline was successful with no errors. \n",
    "One can observe here that with no grid search and default parameters a high accuracy on test set is achieved by training the model with 578 files. However a plateau in the test accuracy is reached soon and increasing the training set further gave minor changes in accuracy or no changes at all."
   ]
  },
  {
   "cell_type": "markdown",
   "metadata": {
    "deletable": true,
    "editable": true
   },
   "source": [
    "#### ParamGrid and train validation split"
   ]
  },
  {
   "cell_type": "code",
   "execution_count": null,
   "metadata": {
    "collapsed": true,
    "deletable": true,
    "editable": true
   },
   "outputs": [],
   "source": [
    "# initialise arrays for plotting\n",
    "training_time=[]\n",
    "testing_time=[]\n",
    "file_count=[]\n",
    "training_accuracy=[]\n",
    "testing_accuracy=[]\n",
    "\n",
    "\n",
    "bc_eval=BinaryClassificationEvaluator() #binary class evaluator since we only have two output classes either SPAM and HAM\n",
    "\n",
    "#trying different hashvectors [10, 100, 200] #experimenting various regularization Parameter in LR [0, 0.1]\n",
    "#experimenting various iterations of log Likelihood in LR [20,40]\n",
    "paramGrid_1 = ParamGridBuilder().addGrid(hashingTF.numFeatures, [10, 100, 200]).addGrid(lr.regParam, [0, 0.1]) \\\n",
    "            .addGrid(lr.maxIter, [20,40]) \\\n",
    "            .build()\n",
    "    \n",
    "#Grid search is to experiment with different set of parameters to chose the best model. Experimenting with hash vector size since \n",
    "#the bag of words considered in the vector affect accuracy results\n",
    "\n",
    "# split the data into 80% training and 20% testing\n",
    "tvs = TrainValidationSplit(estimator=pipeline_1,\n",
    "                           estimatorParamMaps=paramGrid_1,\n",
    "                           evaluator=bc_eval,\n",
    "                           # 80% of the data will be used for training, 20% for validation.\n",
    "                           trainRatio=0.8)"
   ]
  },
  {
   "cell_type": "markdown",
   "metadata": {
    "deletable": true,
    "editable": true
   },
   "source": [
    "## Varying training set size"
   ]
  },
  {
   "cell_type": "code",
   "execution_count": 5,
   "metadata": {
    "collapsed": false,
    "deletable": true,
    "editable": true,
    "scrolled": true
   },
   "outputs": [
    {
     "name": "stdout",
     "output_type": "stream",
     "text": [
      "EXPERIMENT: Testing different training set sizes with the best Model selected by ParamBuilder\n",
      "Path = hdfs://saltdean/data/spam/bare/part[1-{}],\n",
      "hdfs://saltdean/data/spam/bare/part[1-1]\n",
      "Read 289 files from directory hdfs://saltdean/data/spam/bare/part[1-1]\n",
      "Start Training\n",
      "Finish Training\n",
      "training accuracy:  0.9962828492392808\n",
      "Time take to train 0.7302370000000007 seconds\n",
      "Time take to predict train 0.0868190000000002 seconds\n",
      "testing accuracy:  0.9129701467363802\n",
      "Time taken to predict test 0.025719999999999743 seconds\n",
      "#################################\n",
      "hdfs://saltdean/data/spam/bare/part[1-2]\n",
      "Read 578 files from directory hdfs://saltdean/data/spam/bare/part[1-2]\n",
      "Start Training\n",
      "Finish Training\n",
      "training accuracy:  0.9897562240663901\n",
      "Time take to train 0.7406370000000013 seconds\n",
      "Time take to predict train 0.02289500000000011 seconds\n",
      "testing accuracy:  0.9298363973688645\n",
      "Time taken to predict test 0.015722999999999487 seconds\n",
      "#################################\n",
      "hdfs://saltdean/data/spam/bare/part[1-3]\n",
      "Read 867 files from directory hdfs://saltdean/data/spam/bare/part[1-3]\n",
      "Start Training\n",
      "Finish Training\n",
      "training accuracy:  1.0\n",
      "Time take to train 0.8076720000000002 seconds\n",
      "Time take to predict train 0.025162999999999158 seconds\n",
      "testing accuracy:  0.9593523359757123\n",
      "Time taken to predict test 0.020051000000000485 seconds\n",
      "#################################\n",
      "hdfs://saltdean/data/spam/bare/part[1-4]\n",
      "Read 1156 files from directory hdfs://saltdean/data/spam/bare/part[1-4]\n",
      "Start Training\n",
      "Finish Training\n",
      "training accuracy:  1.0\n",
      "Time take to train 0.8430299999999988 seconds\n",
      "Time take to predict train 0.02601300000000073 seconds\n",
      "testing accuracy:  0.9635688986338335\n",
      "Time taken to predict test 0.022531999999999996 seconds\n",
      "#################################\n"
     ]
    }
   ],
   "source": [
    "# Expected running time for this cell is 40 minutes (we reduced the train datasets to only 4 parts instead of 9 sets\n",
    "# since it takes many hours to run on all parts with the grid search \n",
    "# Trying different training set sizes with ParamGrid and TrainValidation \n",
    "\n",
    "# prepare the part directories and the path\n",
    "dirPattern = 'hdfs://saltdean/data/spam/bare/part[1-{}]' # the {} can be filled by 'dirPattern.format(i)' \n",
    "testing,count2 = spam_test_DF\n",
    "print('EXPERIMENT: Testing different training set sizes with the best Model selected by ParamBuilder')\n",
    "print('Path = {},'.format(dirPattern)) # using format to make sure we record the parameters of the experiment\n",
    "#<<< make the test set, it will be constant for this experiment\n",
    "#<<< loop over i the number of parts for training (1-5)\n",
    "for i in range(1,5):# Run Train-validation and record the time taken to train\n",
    "    trainPaths = dirPattern.format(i) # create a path\n",
    "    print(trainPaths) #for testing\n",
    "    training,count = read_rows_DF(trainPaths)\n",
    "    file_count.append(count)\n",
    "    print('Start Training')\n",
    "    start1=time.clock() # start timer to record computational time taken to train\n",
    "    Model = tvs.fit(training) # training the model \n",
    "    end1=time.clock() \n",
    "    training_time.append(end1-start1) # get time taken to train\n",
    "    print('Finish Training')\n",
    "\n",
    "    # Make predictions on training documents and save the time taken to for the prediction\n",
    "    start2=time.clock() # start time recording\n",
    "    prediction = Model.transform(training) # make prediction on the training model\n",
    "    train_accuracy=bc_eval.evaluate(prediction) # get training accuracy \n",
    "    training_accuracy.append(train_accuracy) # save training accuracy\n",
    "    end2=time.clock()\n",
    "    print(\"training accuracy: \", train_accuracy) \n",
    "    print(\"Time take to train\", end1-start1,\"seconds\")\n",
    "    print(\"Time take to predict train\", end2-start2,\"seconds\")\n",
    "\n",
    "    # Make predictions on test documents. \n",
    "    start3=time.clock()\n",
    "    prediction = Model.transform(testing) # make predication using the test dataset on the trained model \n",
    "    test_acc=bc_eval.evaluate(prediction) # get test accuracy of the predication \n",
    "    testing_accuracy.append(test_acc) # save test accuracy \n",
    "    end3=time.clock()\n",
    "    print(\"testing accuracy: \", test_acc)\n",
    "    print(\"Time taken to predict test\", end3-start3,\"seconds\")\n",
    "    print(\"#################################\")\n",
    "\n",
    "# We tried with about 27 different combinations however running the code took over three hour,\n",
    "# thus limited number of parameter combination were used in Grid serach to make the results producible while marking\n",
    "# Only hold out set was used for evaluating model instead of cross validation\n",
    "# Also using cross-val would make it computationally more expensive."
   ]
  },
  {
   "cell_type": "markdown",
   "metadata": {
    "deletable": true,
    "editable": true
   },
   "source": [
    "## Plotting Figures for Analysis"
   ]
  },
  {
   "cell_type": "code",
   "execution_count": 6,
   "metadata": {
    "collapsed": false,
    "deletable": true,
    "editable": true
   },
   "outputs": [
    {
     "data": {
      "image/png": "[encoded data removed]",
      "text/plain": [
       "<matplotlib.figure.Figure at 0x7fa58255d828>"
      ]
     },
     "metadata": {},
     "output_type": "display_data"
    },
    {
     "data": {
      "image/png": "[encoded data removed]",
      "text/plain": [
       "<matplotlib.figure.Figure at 0x7fa58259e160>"
      ]
     },
     "metadata": {},
     "output_type": "display_data"
    }
   ],
   "source": [
    "import matplotlib.pyplot as plt\n",
    "# plot testing and training accuracy as the number of files increases\n",
    "plt.figure(1)\n",
    "plt.suptitle('Testing vs Training')\n",
    "plt.xlabel('File Count')\n",
    "plt.ylabel('Accuracy')\n",
    "plt.plot(file_count, training_accuracy, 'r--', linewidth=2.0, label='Training')\n",
    "plt.plot(file_count,testing_accuracy, 'g--',linewidth=2.0, label='Testing')\n",
    "plt.legend(loc='upper right')\n",
    "plt.show()\n",
    "\n",
    "# plot time taken to train with the increase of file count\n",
    "plt.figure(1)\n",
    "plt.suptitle('Time taken to train')\n",
    "plt.xlabel('File Count')\n",
    "plt.ylabel('Time-seconds')\n",
    "plt.plot(file_count, training_time, 'b-',linewidth=2.0)\n",
    "plt.show()\n",
    "\n"
   ]
  },
  {
   "cell_type": "markdown",
   "metadata": {
    "deletable": true,
    "editable": true
   },
   "source": [
    "#### Analysis of training and testing results\n",
    "\n",
    "##### One can observe that Iterative algorithms are inefficient in standard MapReduce as it takes too much time to run, since intermediate resutlts will be written and read from/to disk which makes this processing very time consuming. As oppopsed to running machine learning algorithms in a normal python kernel does not take time since it does have to write/read from/to disk.\n",
    "\n",
    "##### We used logistic regression to classify spam-ham messages. For preprocessing, we first implemented a tokenizer to break down the sentences into words, we also removed the stop words and punctuations to help increase the classification accuracy, then we used hashing to transform the tokens into fixed size TF vectors. After that, a grid search was implemented with varying hash size vector [10,100,200] since as the hash vector size increases the accuracy should increase too. Also ranged the regularization [0,0.1] to experiment with different regularization to avoid overfitting (unfortunately we could not increase the number of parameters in the grid search  because it takes too much time to run). The grid builder will then pick the best model (with the best parameters). However, we do not know what parameters produced the best results. The model was then evaluated on a hold out test set (unseen examples). \n",
    "\n",
    "##### The model was trained on 4 subdirectories only, with varying train set size. In the first run, the model was trained on first train set (part 1 with 289 files). Train accuracy was 99.6%, and took 0.73 seconds to train. This shows that the model is overfitting where it was able to correctly classify all the file almost 100%. It could also mean that the file may have uneven distribution of data or similar cases. As for the test accuracy, the result was 91%. It shows that, although the training model was overfitting, it is very well generalised on unseen examples and the grid builder was able to choose the best optimised model. And it could also mean that the file had a more balanced/unbiased data distribution.\n",
    "\n",
    "##### The second training set comprises the first and the second parts together. The model was trained on 578 files and produced accuray of 98.9% (almost similar to the first trained model). The time taken to train was 0.74 second as opposed to 0.73 in the first trained model - computational time increases (though just by 0.1 seconds). Testing this model on the test set, resulted in an accuracy of ~93% (+2% increase from the first model). This shows that with more training data, the time taken to train increases and it improves the accuracy on the test set - produce a better model (generalised model). \n",
    "\n",
    "##### The third model was trained on 3 parts [1,2, and 3] which contain 867 files. The accuracy is 100% which is the ultimate case of overfitting and the time taken to train increased again from 0.74 second (in the second model) to 0.8 seconds. When testing this model on the test set, it produced ~96% (+5% increase compared to the first model and + 3% compared to the third model). Again, more training examples resulted in a better model when tested on the hold out test set and the computational time kept on increasing.\n",
    "\n",
    "##### The fourth and final model, was built on all 4 parts [1-4] with 1156 files. The training accuracy was 100%, and took 0.84 seconds to train (+0.11 seconds increase compared to the first trained model). The model produced slightly better results on the test set with 96.3% accuracy (+~0.03 from the last model). Based on this experiement, we expect that as the training data increases, the computational time will increase and the accuracy on the test set will increase (slightly after this model since the accuracy is very high already) until it stabalises. \n",
    "\n",
    "##### The figures above help depict this experiment. The first figure (top) shows that the training accuracy varied between 99% to 100% (with varying training set size). And the test accuracy is always increasing when we increase the training data set. This means that more training data resutls in a well generalised model. We also expect to get even better results when the hash vector size increases. The  second figure (bottom) shows that the model takes more time to train when the training data increases."
   ]
  }
 ],
 "metadata": {
  "kernelspec": {
   "display_name": "PySpark",
   "language": "python",
   "name": "pyspark"
  },
  "language_info": {
   "codemirror_mode": {
    "name": "ipython",
    "version": 3
   },
   "file_extension": ".py",
   "mimetype": "text/x-python",
   "name": "python",
   "nbconvert_exporter": "python",
   "pygments_lexer": "ipython3",
   "version": "3.5.2"
  }
 },
 "nbformat": 4,
 "nbformat_minor": 2
}
